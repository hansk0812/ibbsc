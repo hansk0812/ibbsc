{
 "cells": [
  {
   "cell_type": "code",
   "execution_count": 218,
   "metadata": {},
   "outputs": [],
   "source": [
    "import torch\n",
    "import numpy as np\n",
    "import scipy"
   ]
  },
  {
   "cell_type": "code",
   "execution_count": 219,
   "metadata": {},
   "outputs": [],
   "source": [
    "test_tensor = torch.randn(10,10)"
   ]
  },
  {
   "cell_type": "code",
   "execution_count": 220,
   "metadata": {},
   "outputs": [
    {
     "data": {
      "text/plain": [
       "tensor([[-0.6289,  0.1384, -0.5669,  2.3690, -2.0550,  1.1082,  0.3908,  1.0400,\n",
       "         -0.3243, -0.4512],\n",
       "        [ 2.0204,  1.1205, -1.5343,  1.4972, -0.1196,  2.2822,  1.4008,  1.6107,\n",
       "         -0.5056,  1.3480],\n",
       "        [-0.6440,  0.5574,  0.0961, -0.1577, -0.5968, -1.5472,  0.4082,  0.9728,\n",
       "         -0.5897, -0.4593],\n",
       "        [ 1.7727,  0.1303, -0.2228, -1.0785, -0.1068,  0.9518, -0.6476,  1.1465,\n",
       "         -0.9887, -0.8163],\n",
       "        [ 0.0925, -0.1094, -2.1177, -0.9997, -0.8016,  0.0587, -1.0559,  1.0155,\n",
       "          0.2375,  0.9342],\n",
       "        [-2.6003,  0.6928, -1.6956,  0.2050, -0.3142, -1.4027,  1.4009,  1.2082,\n",
       "          0.1907, -1.0242],\n",
       "        [ 1.1637, -0.4469,  2.1289, -0.8149,  1.4558, -0.5929, -0.5159,  0.0183,\n",
       "         -0.6333, -0.8637],\n",
       "        [-0.6389, -0.9054, -1.3132, -0.3583,  0.6922,  0.8053, -0.0789, -1.5258,\n",
       "          0.9012, -0.6946],\n",
       "        [-0.8918, -0.0548, -0.4903, -0.9998,  0.6302,  0.0388,  0.9900, -0.7580,\n",
       "         -0.3336,  0.4173],\n",
       "        [ 1.2778,  0.1300,  0.2759, -1.0197,  0.2225, -0.3777,  1.0767, -1.4726,\n",
       "          0.0988, -0.3742]])"
      ]
     },
     "execution_count": 220,
     "metadata": {},
     "output_type": "execute_result"
    }
   ],
   "source": [
    "test_tensor"
   ]
  },
  {
   "cell_type": "code",
   "execution_count": 221,
   "metadata": {},
   "outputs": [],
   "source": [
    "def truncated_normal_(tensor):\n",
    "        \"\"\"\n",
    "        Helper function to generate a truncated normal distribution \n",
    "        for initializing layers as done in (Ziv, Tishby. 2017) \n",
    "        \"\"\"\n",
    "        mean = 0\n",
    "        std = 1/float(np.sqrt(tensor.shape[0]))\n",
    "        size = tensor.shape\n",
    "        tmp = tensor.new_empty(size + (4,)).normal_()\n",
    "        valid = (tmp < 2) & (tmp > -2)\n",
    "        ind = valid.max(-1, keepdim=True)[1]\n",
    "        tensor.data.copy_(tmp.gather(-1, ind).squeeze(-1))\n",
    "        tensor.data.mul_(std).add_(mean)\n",
    "        return tensor"
   ]
  },
  {
   "cell_type": "code",
   "execution_count": 222,
   "metadata": {},
   "outputs": [],
   "source": [
    "tt = truncated_normal_(test_tensor)"
   ]
  },
  {
   "cell_type": "code",
   "execution_count": 223,
   "metadata": {},
   "outputs": [],
   "source": [
    "import matplotlib.pyplot as plt\n",
    "import seaborn as sns"
   ]
  },
  {
   "cell_type": "code",
   "execution_count": 224,
   "metadata": {},
   "outputs": [
    {
     "data": {
      "text/plain": [
       "<matplotlib.axes._subplots.AxesSubplot at 0x7f012535aaf0>"
      ]
     },
     "execution_count": 224,
     "metadata": {},
     "output_type": "execute_result"
    },
    {
     "data": {
      "image/png": "[encoded data removed]",
      "text/plain": [
       "<Figure size 432x288 with 1 Axes>"
      ]
     },
     "metadata": {
      "needs_background": "light"
     },
     "output_type": "display_data"
    }
   ],
   "source": [
    "sns.distplot(tt)"
   ]
  },
  {
   "cell_type": "code",
   "execution_count": 225,
   "metadata": {},
   "outputs": [],
   "source": [
    "from scipy import stats"
   ]
  },
  {
   "cell_type": "code",
   "execution_count": 226,
   "metadata": {},
   "outputs": [
    {
     "data": {
      "text/plain": [
       "-0.6324555320336759"
      ]
     },
     "execution_count": 226,
     "metadata": {},
     "output_type": "execute_result"
    }
   ],
   "source": [
    "-2*1/float(np.sqrt(test_tensor.shape[0]))"
   ]
  },
  {
   "cell_type": "code",
   "execution_count": 227,
   "metadata": {},
   "outputs": [],
   "source": [
    "def truncnorm2(tensor):\n",
    "    arr = tensor.numpy()\n",
    "    a, b = -2, 2\n",
    "    print(a,b)\n",
    "    X = stats.truncnorm(a,b, loc=0, scale=1/float(np.sqrt(tensor.shape[0])))\n",
    "    aa = X.rvs(arr.shape)\n",
    "    return aa "
   ]
  },
  {
   "cell_type": "code",
   "execution_count": 228,
   "metadata": {},
   "outputs": [
    {
     "name": "stdout",
     "output_type": "stream",
     "text": [
      "-2 2\n"
     ]
    }
   ],
   "source": [
    "tt2 = truncnorm2(test_tensor)"
   ]
  },
  {
   "cell_type": "code",
   "execution_count": 229,
   "metadata": {},
   "outputs": [
    {
     "data": {
      "text/plain": [
       "array([[-0.44137546,  0.05316093,  0.12725238, -0.04702236, -0.19558831,\n",
       "        -0.23267969,  0.62974822,  0.16848239,  0.32270755,  0.38434042],\n",
       "       [ 0.1494881 ,  0.23612673, -0.04250113, -0.17046354, -0.6176299 ,\n",
       "        -0.24441882,  0.06352323,  0.35464152, -0.19322204,  0.02466658],\n",
       "       [-0.50178807, -0.11982776,  0.03668644,  0.5710239 , -0.08979135,\n",
       "         0.02517724,  0.42558436, -0.40185645,  0.46931673,  0.43125263],\n",
       "       [ 0.39878286, -0.29431451,  0.38260661,  0.06896865,  0.14453068,\n",
       "         0.39566029, -0.1073173 , -0.26117687,  0.10029819, -0.03608116],\n",
       "       [ 0.1489697 , -0.14439551, -0.35504898, -0.04506382, -0.0731651 ,\n",
       "        -0.01292562, -0.51954129, -0.3111947 , -0.08511459,  0.03788087],\n",
       "       [-0.07672523, -0.19519123, -0.14091399, -0.09513058, -0.06011806,\n",
       "        -0.27783852, -0.20874706,  0.05266989, -0.0307432 ,  0.16542344],\n",
       "       [ 0.43065639,  0.09129695, -0.09254297,  0.29393466, -0.14223236,\n",
       "         0.35364894,  0.45196849, -0.29242098, -0.24389187,  0.0287839 ],\n",
       "       [ 0.05173131, -0.50643649, -0.13510166,  0.45615491,  0.20844223,\n",
       "        -0.50061319,  0.01096354, -0.08838487,  0.19381051, -0.60533145],\n",
       "       [ 0.38760404,  0.24407217,  0.56101586,  0.1351618 ,  0.48242517,\n",
       "        -0.09132453, -0.23683255, -0.3362826 ,  0.14928233,  0.39179618],\n",
       "       [-0.37535162, -0.21578186, -0.14342456,  0.32371226,  0.37259393,\n",
       "        -0.39175565,  0.27742228, -0.4744654 ,  0.4585386 , -0.13433239]])"
      ]
     },
     "execution_count": 229,
     "metadata": {},
     "output_type": "execute_result"
    }
   ],
   "source": [
    "tt2"
   ]
  },
  {
   "cell_type": "code",
   "execution_count": 230,
   "metadata": {},
   "outputs": [
    {
     "data": {
      "text/plain": [
       "<matplotlib.axes._subplots.AxesSubplot at 0x7f0124eacd30>"
      ]
     },
     "execution_count": 230,
     "metadata": {},
     "output_type": "execute_result"
    },
    {
     "data": {
      "image/png": "[encoded data removed]",
      "text/plain": [
       "<Figure size 432x288 with 1 Axes>"
      ]
     },
     "metadata": {
      "needs_background": "light"
     },
     "output_type": "display_data"
    }
   ],
   "source": [
    "sns.distplot(tt2)"
   ]
  },
  {
   "cell_type": "code",
   "execution_count": 231,
   "metadata": {},
   "outputs": [],
   "source": [
    "import math"
   ]
  },
  {
   "cell_type": "code",
   "execution_count": 232,
   "metadata": {},
   "outputs": [],
   "source": [
    "def _no_grad_trunc_normal_(tensor, mean, std, a, b):\n",
    "    # Method based on https://people.sc.fsu.edu/~jburkardt/presentations/truncated_normal.pdf\n",
    "    def norm_cdf(x):\n",
    "        # Computes standard normal cumulative distribution function\n",
    "        return (1. + math.erf(x / math.sqrt(2.))) / 2.\n",
    "\n",
    "    if (mean < a - 2 * std) or (mean > b + 2 * std):\n",
    "        warnings.warn(\"mean is more than 2 std from [a, b] in nn.init.trunc_normal_. \"\n",
    "                      \"The distribution of values may be incorrect.\",\n",
    "                      stacklevel=2)\n",
    "\n",
    "    with torch.no_grad():\n",
    "        # Values are generated by using a truncated uniform distribution and\n",
    "        # then using the inverse CDF for the normal distribution.\n",
    "        # Get upper and lower cdf values\n",
    "        l = norm_cdf((a - mean) / std)\n",
    "        u = norm_cdf((b - mean) / std)\n",
    "\n",
    "        # Uniformly fill tensor with values from [l, u], then translate to\n",
    "        # [2l-1, 2u-1].\n",
    "        tensor.uniform_(2 * l - 1, 2 * u - 1)\n",
    "\n",
    "        # Use inverse cdf transform for normal distribution to get truncated\n",
    "        # standard normal\n",
    "        tensor.erfinv_()\n",
    "\n",
    "        # Transform to proper mean, std\n",
    "        tensor.mul_(std * math.sqrt(2.))\n",
    "        tensor.add_(mean)\n",
    "\n",
    "        # Clamp to ensure it's in the proper range\n",
    "        tensor.clamp_(min=a, max=b)\n",
    "        return tensor"
   ]
  },
  {
   "cell_type": "code",
   "execution_count": 233,
   "metadata": {},
   "outputs": [],
   "source": [
    "tt3 = _no_grad_trunc_normal_(test_tensor, 0, 1/float(np.sqrt(test_tensor.shape[0])),-2, 2)"
   ]
  },
  {
   "cell_type": "code",
   "execution_count": 234,
   "metadata": {},
   "outputs": [
    {
     "data": {
      "text/plain": [
       "<matplotlib.axes._subplots.AxesSubplot at 0x7f01257b0730>"
      ]
     },
     "execution_count": 234,
     "metadata": {},
     "output_type": "execute_result"
    },
    {
     "data": {
      "image/png": "[encoded data removed]",
      "text/plain": [
       "<Figure size 432x288 with 1 Axes>"
      ]
     },
     "metadata": {
      "needs_background": "light"
     },
     "output_type": "display_data"
    }
   ],
   "source": [
    "sns.distplot(tt3)"
   ]
  },
  {
   "cell_type": "code",
   "execution_count": 235,
   "metadata": {},
   "outputs": [],
   "source": [
    "import numpy as np\n",
    "import torch\n",
    "\n",
    "\n",
    "def parameterized_truncated_normal(uniform, mu, sigma, a, b):\n",
    "    normal = torch.distributions.normal.Normal(0, 1)\n",
    "\n",
    "    alpha = (a - mu) / sigma\n",
    "    beta = (b - mu) / sigma\n",
    "\n",
    "    alpha_normal_cdf = normal.cdf(alpha)\n",
    "    p = alpha_normal_cdf + (normal.cdf(beta) - alpha_normal_cdf) * uniform\n",
    "\n",
    "    p = p.numpy()\n",
    "    one = np.array(1, dtype=p.dtype)\n",
    "    epsilon = np.array(np.finfo(p.dtype).eps, dtype=p.dtype)\n",
    "    v = np.clip(2 * p - 1, -one + epsilon, one - epsilon)\n",
    "    x = mu + sigma * np.sqrt(2) * torch.erfinv(torch.from_numpy(v))\n",
    "    x = torch.clamp(x, a, b)\n",
    "\n",
    "    return x\n",
    "\n",
    "\n",
    "def truncated_normal(uniform):\n",
    "    return parameterized_truncated_normal(uniform, mu=0.0, sigma=1.0, a=-2, b=2)\n",
    "\n",
    "\n",
    "def sample_truncated_normal(shape=()):\n",
    "    return truncted_normal(torch.from_numpy(np.random.uniform(0, 1, shape)))"
   ]
  },
  {
   "cell_type": "code",
   "execution_count": 236,
   "metadata": {},
   "outputs": [],
   "source": [
    "tt4  = parameterized_truncated_normal(test_tensor, 0, 1/float(np.sqrt(test_tensor.shape[0])), -2, 2)"
   ]
  },
  {
   "cell_type": "code",
   "execution_count": 237,
   "metadata": {},
   "outputs": [
    {
     "data": {
      "text/plain": [
       "<matplotlib.axes._subplots.AxesSubplot at 0x7f011da97fa0>"
      ]
     },
     "execution_count": 237,
     "metadata": {},
     "output_type": "execute_result"
    },
    {
     "data": {
      "image/png": "[encoded data removed]",
      "text/plain": [
       "<Figure size 432x288 with 1 Axes>"
      ]
     },
     "metadata": {
      "needs_background": "light"
     },
     "output_type": "display_data"
    }
   ],
   "source": [
    "sns.distplot(tt4)"
   ]
  },
  {
   "cell_type": "code",
   "execution_count": 211,
   "metadata": {},
   "outputs": [
    {
     "name": "stdout",
     "output_type": "stream",
     "text": [
      "Using cuda\n"
     ]
    }
   ],
   "source": [
    "# Run on GPU if possible\n",
    "try_gpu = True\n",
    "if try_gpu:\n",
    "    cuda = torch.cuda.is_available() \n",
    "    device = torch.device(\"cuda\" if cuda else \"cpu\")\n",
    "else:\n",
    "    device = torch.device(\"cpu\")\n",
    "print(\"Using \"+ str(device))"
   ]
  },
  {
   "cell_type": "code",
   "execution_count": 213,
   "metadata": {},
   "outputs": [],
   "source": [
    "test_tensor = test_tensor.to(device)"
   ]
  },
  {
   "cell_type": "code",
   "execution_count": 214,
   "metadata": {},
   "outputs": [
    {
     "data": {
      "text/plain": [
       "True"
      ]
     },
     "execution_count": 214,
     "metadata": {},
     "output_type": "execute_result"
    }
   ],
   "source": [
    "test_tensor.is_cuda"
   ]
  },
  {
   "cell_type": "code",
   "execution_count": null,
   "metadata": {},
   "outputs": [],
   "source": []
  }
 ],
 "metadata": {
  "kernelspec": {
   "display_name": "Python 3",
   "language": "python",
   "name": "python3"
  },
  "language_info": {
   "codemirror_mode": {
    "name": "ipython",
    "version": 3
   },
   "file_extension": ".py",
   "mimetype": "text/x-python",
   "name": "python",
   "nbconvert_exporter": "python",
   "pygments_lexer": "ipython3",
   "version": "3.8.1"
  }
 },
 "nbformat": 4,
 "nbformat_minor": 4
}
