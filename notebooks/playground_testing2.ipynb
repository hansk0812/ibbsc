{
 "cells": [
  {
   "cell_type": "code",
   "execution_count": null,
   "metadata": {},
   "outputs": [],
   "source": [
    "import matplotlib.pyplot as plt\n",
    "import numpy as np\n",
    "import seaborn as sns\n",
    "sns.set()"
   ]
  },
  {
   "cell_type": "code",
   "execution_count": null,
   "metadata": {},
   "outputs": [],
   "source": [
    "in_array = np.linspace(-5, 5, 100) \n",
    "out_array = np.tanh(in_array) \n",
    "\n",
    "bins = np.linspace(-1, 1, 10)"
   ]
  },
  {
   "cell_type": "code",
   "execution_count": null,
   "metadata": {
    "scrolled": true
   },
   "outputs": [],
   "source": [
    "plt.plot(in_array, out_array, label=\"Activation function\") \n",
    "plt.title(\"Uniform Binning\") \n",
    "plt.xlabel(\"\") \n",
    "plt.ylabel(\"\") \n",
    "for y in bins[:-1]:\n",
    "    plt.hlines(y, -5, 5, linewidth=1, linestyles=\"dotted\")\n",
    "plt.hlines(bins[-1], -5, 5, linewidth=1, linestyles=\"dotted\", label=\"Bin Borders\")\n",
    "plt.legend(loc=\"lower right\")\n",
    "plt.tight_layout()\n",
    "#plt.show()\n",
    "plt.savefig(\"uniform_bins.png\", dpi=700)"
   ]
  },
  {
   "cell_type": "code",
   "execution_count": null,
   "metadata": {},
   "outputs": [],
   "source": [
    "import pickle\n",
    "with open(\"mains/bins.pickle\", 'rb') as f:\n",
    "    bins_ars = pickle.load(f)\n",
    "    f.close()\n",
    "    \n",
    "adapt_bins = bins_ars[-3000][-2]"
   ]
  },
  {
   "cell_type": "code",
   "execution_count": null,
   "metadata": {},
   "outputs": [],
   "source": [
    "plt.plot(in_array, out_array, label=\"Activation function\") \n",
    "plt.title(\"Adaptive Binning\") \n",
    "plt.xlabel(\"\") \n",
    "plt.ylabel(\"\") \n",
    "\n",
    "for y in adapt_bins[:-1]:\n",
    "    plt.hlines(y, -5, 5, linewidth=1, linestyles=\"dotted\")\n",
    "plt.hlines(adapt_bins[-1], -5, 5, linewidth=1, linestyles=\"dotted\", label=\"Bin Borders\")\n",
    "plt.legend(loc=\"lower right\")\n",
    "plt.tight_layout()\n",
    "#plt.show() \n",
    "plt.savefig(\"adaptive_bins.png\", dpi=700)"
   ]
  },
  {
   "cell_type": "code",
   "execution_count": null,
   "metadata": {},
   "outputs": [],
   "source": [
    "import pickle"
   ]
  },
  {
   "cell_type": "code",
   "execution_count": null,
   "metadata": {},
   "outputs": [],
   "source": [
    "with open(\"mains/bins.pickle\", 'rb') as f:\n",
    "    bins_ars = pickle.load(f)\n",
    "    f.close()"
   ]
  },
  {
   "cell_type": "code",
   "execution_count": null,
   "metadata": {},
   "outputs": [],
   "source": [
    "!pwd"
   ]
  },
  {
   "cell_type": "code",
   "execution_count": null,
   "metadata": {},
   "outputs": [],
   "source": [
    "!ls ./data/max_val_folder/"
   ]
  },
  {
   "cell_type": "code",
   "execution_count": null,
   "metadata": {},
   "outputs": [],
   "source": [
    "with open(\"data/max_val_folder/max_values9_256.pickle\", 'rb') as f:\n",
    "    max_vals = pickle.load(f)\n",
    "    f.close()"
   ]
  },
  {
   "cell_type": "code",
   "execution_count": null,
   "metadata": {},
   "outputs": [],
   "source": [
    "max_vals = np.array(max_vals)"
   ]
  },
  {
   "cell_type": "code",
   "execution_count": null,
   "metadata": {},
   "outputs": [],
   "source": [
    "max_vals.shape"
   ]
  },
  {
   "cell_type": "code",
   "execution_count": null,
   "metadata": {},
   "outputs": [],
   "source": [
    "max_vals.T.shape"
   ]
  },
  {
   "cell_type": "code",
   "execution_count": null,
   "metadata": {},
   "outputs": [],
   "source": [
    "max_vals.T"
   ]
  },
  {
   "cell_type": "code",
   "execution_count": null,
   "metadata": {},
   "outputs": [],
   "source": [
    "fig = plt.figure()\n",
    "ax = plt.subplot(111)\n",
    "for idx, i in enumerate(max_vals.T[:-1]):\n",
    "    ax.plot(i, label = \"ReLU layer {}\".format(idx+1))\n",
    "ax.set_xlabel(\"Epoch\")\n",
    "ax.set_ylabel(\"Activation value\")\n",
    "\n",
    "ax.legend(loc=\"best\",fancybox=True, shadow=True)"
   ]
  },
  {
   "cell_type": "code",
   "execution_count": null,
   "metadata": {},
   "outputs": [],
   "source": [
    "fig.savefig(\"act_layers.png\")"
   ]
  },
  {
   "cell_type": "code",
   "execution_count": null,
   "metadata": {},
   "outputs": [],
   "source": []
  }
 ],
 "metadata": {
  "kernelspec": {
   "display_name": "Python 3",
   "language": "python",
   "name": "python3"
  },
  "language_info": {
   "codemirror_mode": {
    "name": "ipython",
    "version": 3
   },
   "file_extension": ".py",
   "mimetype": "text/x-python",
   "name": "python",
   "nbconvert_exporter": "python",
   "pygments_lexer": "ipython3",
   "version": "3.7.4"
  }
 },
 "nbformat": 4,
 "nbformat_minor": 4
}
