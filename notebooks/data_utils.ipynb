{
 "cells": [
  {
   "cell_type": "code",
   "execution_count": 46,
   "metadata": {},
   "outputs": [],
   "source": [
    "import numpy as np\n",
    "import torch \n",
    "from torch import nn\n",
    "from torch.nn import functional as F\n",
    "from scipy import io\n",
    "from torch.utils.data import DataLoader, random_split, TensorDataset\n",
    "from sklearn.model_selection import train_test_split"
   ]
  },
  {
   "cell_type": "code",
   "execution_count": 103,
   "metadata": {},
   "outputs": [
    {
     "name": "stdout",
     "output_type": "stream",
     "text": [
      "Using cuda\n"
     ]
    }
   ],
   "source": [
    "# Original IB data set path\n",
    "data_path = \"./data/var_u.mat\"\n",
    "\n",
    "# Other data\n",
    "#data_path = \"./\"\n",
    "\n",
    "cuda = torch.cuda.is_available() \n",
    "device = torch.device(\"cuda\" if cuda else \"cpu\")\n",
    "print(\"Using \"+ str(device))"
   ]
  },
  {
   "cell_type": "code",
   "execution_count": 104,
   "metadata": {},
   "outputs": [],
   "source": [
    "def de_onehot(y_onehot):\n",
    "    out_arr = []\n",
    "    for i in y_onehot:\n",
    "        out_arr.append(np.argmax(i))\n",
    "    return np.array(out_arr)"
   ]
  },
  {
   "cell_type": "code",
   "execution_count": 105,
   "metadata": {},
   "outputs": [],
   "source": [
    "def load_data(data_path):\n",
    "    # Load data as is\n",
    "    data = io.loadmat(data_path) # OBS loads in a weird JSON\n",
    "    X = data[\"F\"] # (4096, 12)\n",
    "    y = data[\"y\"] # (1, 4096)\n",
    "    \n",
    "    # Convert labels to one-hot enc.\n",
    "    y = y.squeeze() # (4096, )\n",
    "    classes = len(np.unique(y))\n",
    "    y_onehot = np.eye(classes)[y]\n",
    "    \n",
    "    #y_onehot = np.squeeze(np.concatenate((y[None, :], 1 - y[None, :]), axis=0).T)\n",
    "    \n",
    "    # We use a simple method from sklearn.\n",
    "    # Original paper uses a custom method, \n",
    "    # but it shouldnt matter as long\n",
    "    # as we shuffle and divide. \n",
    "    X_train, X_test, y_train, y_test = train_test_split(X, y_onehot,\n",
    "                                                        test_size=819, # same os orig paper\n",
    "                                                        random_state=1,\n",
    "                                                        shuffle=True,\n",
    "                                                        stratify=y)\n",
    "    \n",
    "    return X_train, X_test, y_train, y_test"
   ]
  },
  {
   "cell_type": "code",
   "execution_count": 108,
   "metadata": {},
   "outputs": [],
   "source": [
    "def create_dataloader(X, y, batch_size):\n",
    "    \"\"\"\n",
    "    Expects numpy arrays with data \n",
    "    like what is returned by the load_data() \n",
    "    function. \n",
    "    \"\"\"\n",
    "    td = TensorDataset(torch.Tensor(X), torch.Tensor(y))\n",
    "    return DataLoader(td, batch_size=batch_size, shuffle=True) "
   ]
  },
  {
   "cell_type": "code",
   "execution_count": 106,
   "metadata": {},
   "outputs": [],
   "source": [
    "X_train, X_test, y_train, y_test = load_data(data_path)"
   ]
  },
  {
   "cell_type": "code",
   "execution_count": null,
   "metadata": {},
   "outputs": [],
   "source": []
  }
 ],
 "metadata": {
  "kernelspec": {
   "display_name": "Python 3",
   "language": "python",
   "name": "python3"
  },
  "language_info": {
   "codemirror_mode": {
    "name": "ipython",
    "version": 3
   },
   "file_extension": ".py",
   "mimetype": "text/x-python",
   "name": "python",
   "nbconvert_exporter": "python",
   "pygments_lexer": "ipython3",
   "version": "3.8.1"
  }
 },
 "nbformat": 4,
 "nbformat_minor": 4
}
